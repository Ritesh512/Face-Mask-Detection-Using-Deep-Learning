{
 "cells": [
  {
   "cell_type": "code",
   "execution_count": 1,
   "id": "38c910e0",
   "metadata": {},
   "outputs": [],
   "source": [
    "from keras.models import Sequential\n",
    "from keras.layers import Dense,Activation,Flatten,Dropout\n",
    "from keras.layers import Conv2D,MaxPooling2D\n",
    "from keras.callbacks import ModelCheckpoint\n",
    "\n",
    "import numpy as np\n",
    "data = np.load(\"data.npy\")\n",
    "target = np.load(\"target.npy\")"
   ]
  },
  {
   "cell_type": "code",
   "execution_count": 2,
   "id": "436aee53",
   "metadata": {
    "scrolled": true
   },
   "outputs": [
    {
     "name": "stdout",
     "output_type": "stream",
     "text": [
      "Model: \"sequential\"\n",
      "_________________________________________________________________\n",
      " Layer (type)                Output Shape              Param #   \n",
      "=================================================================\n",
      " conv2d (Conv2D)             (None, 98, 98, 200)       2000      \n",
      "                                                                 \n",
      " activation (Activation)     (None, 98, 98, 200)       0         \n",
      "                                                                 \n",
      " max_pooling2d (MaxPooling2D  (None, 49, 49, 200)      0         \n",
      " )                                                               \n",
      "                                                                 \n",
      " conv2d_1 (Conv2D)           (None, 47, 47, 100)       180100    \n",
      "                                                                 \n",
      " activation_1 (Activation)   (None, 47, 47, 100)       0         \n",
      "                                                                 \n",
      " max_pooling2d_1 (MaxPooling  (None, 23, 23, 100)      0         \n",
      " 2D)                                                             \n",
      "                                                                 \n",
      " flatten (Flatten)           (None, 52900)             0         \n",
      "                                                                 \n",
      " dropout (Dropout)           (None, 52900)             0         \n",
      "                                                                 \n",
      " dense (Dense)               (None, 50)                2645050   \n",
      "                                                                 \n",
      " dense_1 (Dense)             (None, 2)                 102       \n",
      "                                                                 \n",
      "=================================================================\n",
      "Total params: 2,827,252\n",
      "Trainable params: 2,827,252\n",
      "Non-trainable params: 0\n",
      "_________________________________________________________________\n"
     ]
    }
   ],
   "source": [
    "model = Sequential()\n",
    "\n",
    "model.add(Conv2D(200,(3,3),input_shape=data.shape[1:]))\n",
    "model.add(Activation('relu'))\n",
    "model.add(MaxPooling2D(pool_size=(2,2)))\n",
    "\n",
    "model.add(Conv2D(100,(3,3)))\n",
    "model.add(Activation('relu'))\n",
    "model.add(MaxPooling2D(pool_size=(2,2)))\n",
    "\n",
    "model.add(Flatten())\n",
    "model.add(Dropout(0.5))\n",
    "model.add(Dense(50,activation='relu'))\n",
    "model.add(Dense(2,activation='softmax'))\n",
    "\n",
    "model.compile(loss='categorical_crossentropy',optimizer='adam',metrics=['accuracy'])\n",
    "model.summary()"
   ]
  },
  {
   "cell_type": "code",
   "execution_count": 3,
   "id": "972227dd",
   "metadata": {},
   "outputs": [],
   "source": [
    "from sklearn.model_selection import train_test_split\n",
    "train_data,test_data,train_target,test_target = train_test_split(data,target,test_size=0.1)"
   ]
  },
  {
   "cell_type": "code",
   "execution_count": 4,
   "id": "6232abb5",
   "metadata": {
    "scrolled": true
   },
   "outputs": [
    {
     "name": "stdout",
     "output_type": "stream",
     "text": [
      "Epoch 1/20\n",
      "58/58 [==============================] - ETA: 0s - loss: 0.6833 - accuracy: 0.5841INFO:tensorflow:Assets written to: model-001.model\\assets\n",
      "58/58 [==============================] - 154s 3s/step - loss: 0.6833 - accuracy: 0.5841 - val_loss: 0.6233 - val_accuracy: 0.6853\n",
      "Epoch 2/20\n",
      "58/58 [==============================] - ETA: 0s - loss: 0.5037 - accuracy: 0.7748INFO:tensorflow:Assets written to: model-002.model\\assets\n",
      "58/58 [==============================] - 162s 3s/step - loss: 0.5037 - accuracy: 0.7748 - val_loss: 0.4479 - val_accuracy: 0.8125\n",
      "Epoch 3/20\n",
      "58/58 [==============================] - ETA: 0s - loss: 0.3944 - accuracy: 0.8244INFO:tensorflow:Assets written to: model-003.model\\assets\n",
      "58/58 [==============================] - 179s 3s/step - loss: 0.3944 - accuracy: 0.8244 - val_loss: 0.4344 - val_accuracy: 0.8147\n",
      "Epoch 4/20\n",
      "58/58 [==============================] - ETA: 0s - loss: 0.3608 - accuracy: 0.8416INFO:tensorflow:Assets written to: model-004.model\\assets\n",
      "58/58 [==============================] - 176s 3s/step - loss: 0.3608 - accuracy: 0.8416 - val_loss: 0.3309 - val_accuracy: 0.8685\n",
      "Epoch 5/20\n",
      "58/58 [==============================] - 178s 3s/step - loss: 0.2897 - accuracy: 0.8702 - val_loss: 0.3412 - val_accuracy: 0.8728\n",
      "Epoch 6/20\n",
      "58/58 [==============================] - ETA: 0s - loss: 0.2711 - accuracy: 0.8901INFO:tensorflow:Assets written to: model-006.model\\assets\n",
      "58/58 [==============================] - 173s 3s/step - loss: 0.2711 - accuracy: 0.8901 - val_loss: 0.3309 - val_accuracy: 0.8534\n",
      "Epoch 7/20\n",
      "58/58 [==============================] - 147s 3s/step - loss: 0.2174 - accuracy: 0.9106 - val_loss: 0.3337 - val_accuracy: 0.8793\n",
      "Epoch 8/20\n",
      "58/58 [==============================] - ETA: 0s - loss: 0.1800 - accuracy: 0.9294INFO:tensorflow:Assets written to: model-008.model\\assets\n",
      "58/58 [==============================] - 144s 2s/step - loss: 0.1800 - accuracy: 0.9294 - val_loss: 0.2998 - val_accuracy: 0.8836\n",
      "Epoch 9/20\n",
      "58/58 [==============================] - 139s 2s/step - loss: 0.1900 - accuracy: 0.9230 - val_loss: 0.3034 - val_accuracy: 0.8772\n",
      "Epoch 10/20\n",
      "58/58 [==============================] - 126s 2s/step - loss: 0.1475 - accuracy: 0.9423 - val_loss: 0.3008 - val_accuracy: 0.8815\n",
      "Epoch 11/20\n",
      "58/58 [==============================] - 129s 2s/step - loss: 0.1289 - accuracy: 0.9537 - val_loss: 0.3527 - val_accuracy: 0.8944\n",
      "Epoch 12/20\n",
      "58/58 [==============================] - 130s 2s/step - loss: 0.1325 - accuracy: 0.9445 - val_loss: 0.3713 - val_accuracy: 0.8815\n",
      "Epoch 13/20\n",
      "58/58 [==============================] - 132s 2s/step - loss: 0.1241 - accuracy: 0.9553 - val_loss: 0.3861 - val_accuracy: 0.8922\n",
      "Epoch 14/20\n",
      "58/58 [==============================] - 141s 2s/step - loss: 0.0989 - accuracy: 0.9607 - val_loss: 0.4479 - val_accuracy: 0.8815\n",
      "Epoch 15/20\n",
      "58/58 [==============================] - 142s 2s/step - loss: 0.0949 - accuracy: 0.9698 - val_loss: 0.3831 - val_accuracy: 0.8858\n",
      "Epoch 16/20\n",
      "58/58 [==============================] - 126s 2s/step - loss: 0.0798 - accuracy: 0.9725 - val_loss: 0.4265 - val_accuracy: 0.8944\n",
      "Epoch 17/20\n",
      "58/58 [==============================] - 119s 2s/step - loss: 0.0668 - accuracy: 0.9779 - val_loss: 0.4519 - val_accuracy: 0.8879\n",
      "Epoch 18/20\n",
      "58/58 [==============================] - 126s 2s/step - loss: 0.0859 - accuracy: 0.9671 - val_loss: 0.3642 - val_accuracy: 0.8922\n",
      "Epoch 19/20\n",
      "58/58 [==============================] - 127s 2s/step - loss: 0.0646 - accuracy: 0.9811 - val_loss: 0.3993 - val_accuracy: 0.8922\n",
      "Epoch 20/20\n",
      "58/58 [==============================] - 125s 2s/step - loss: 0.0735 - accuracy: 0.9714 - val_loss: 0.5626 - val_accuracy: 0.8707\n"
     ]
    }
   ],
   "source": [
    "checkpoint = ModelCheckpoint('model-{epoch:03d}.model',monitor='val_loss',verbose=0,save_best_only = True,mode='auto')\n",
    "history = model.fit(train_data,train_target,epochs=20,callbacks=[checkpoint],validation_split=0.2)"
   ]
  },
  {
   "cell_type": "code",
   "execution_count": null,
   "id": "e771a7d9",
   "metadata": {},
   "outputs": [],
   "source": [
    "#train_data,test_data,train_target,test_target\n",
    "score = model.evaluate(test_data, test_target, verbose = 0) \n",
    "\n",
    "print('Test loss:', score[0]) \n",
    "print('Test accuracy:', score[1])"
   ]
  },
  {
   "cell_type": "code",
   "execution_count": null,
   "id": "77e2da35",
   "metadata": {},
   "outputs": [],
   "source": [
    "score = model.evaluate(train_data, train_target, verbose = 0) \n",
    "print('Train loss:', score[0]) \n",
    "print('Train accuracy:', score[1])"
   ]
  }
 ],
 "metadata": {
  "kernelspec": {
   "display_name": "Python 3",
   "language": "python",
   "name": "python3"
  },
  "language_info": {
   "codemirror_mode": {
    "name": "ipython",
    "version": 3
   },
   "file_extension": ".py",
   "mimetype": "text/x-python",
   "name": "python",
   "nbconvert_exporter": "python",
   "pygments_lexer": "ipython3",
   "version": "3.8.8"
  }
 },
 "nbformat": 4,
 "nbformat_minor": 5
}
