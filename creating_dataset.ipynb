{
 "cells": [
  {
   "cell_type": "code",
   "execution_count": 1,
   "id": "e522446e",
   "metadata": {
    "scrolled": true
   },
   "outputs": [
    {
     "name": "stdout",
     "output_type": "stream",
     "text": [
      "['without_mask', 'with_mask']\n",
      "[0 1]\n",
      "{'without_mask': 0, 'with_mask': 1}\n"
     ]
    }
   ],
   "source": [
    "import os,cv2\n",
    "import numpy as np\n",
    "path = r\"Dataset\"\n",
    "\n",
    "catogeroies = os.listdir(path)\n",
    "labels = np.arange(len(catogeroies))\n",
    "catogeroies_dict = dict(zip(catogeroies,labels))\n",
    "\n",
    "print(catogeroies)\n",
    "print(labels)\n",
    "print(catogeroies_dict)\n"
   ]
  },
  {
   "cell_type": "code",
   "execution_count": 2,
   "id": "daaf087b",
   "metadata": {},
   "outputs": [],
   "source": [
    "img_size=100\n",
    "data = []\n",
    "target = []\n",
    "\n",
    "for catogory in catogeroies:\n",
    "    folder_path = os.path.join(path,catogory)\n",
    "    img_names = os.listdir(folder_path)\n",
    "    for img_name in img_names:\n",
    "        img_path = os.path.join(folder_path,img_name)\n",
    "        img = cv2.imread(img_path)\n",
    "        gray = cv2.cvtColor(img,cv2.COLOR_BGR2GRAY)\n",
    "        \n",
    "        resize_img = cv2.resize(gray,(img_size,img_size))\n",
    "        data.append(resize_img)\n",
    "        target.append(catogeroies_dict[catogory])"
   ]
  },
  {
   "cell_type": "code",
   "execution_count": 3,
   "id": "9c4161ed",
   "metadata": {},
   "outputs": [
    {
     "name": "stdout",
     "output_type": "stream",
     "text": [
      "Counter({0: 1291, 1: 1287})\n"
     ]
    }
   ],
   "source": [
    "import collections\n",
    "print(collections.Counter(target))"
   ]
  },
  {
   "cell_type": "code",
   "execution_count": 4,
   "id": "7ec8d295",
   "metadata": {},
   "outputs": [],
   "source": [
    "data = np.array(data)/255.0\n",
    "data  = np.reshape(data,(data.shape[0],img_size,img_size,1))\n",
    "target = np.array(target)\n",
    "\n",
    "from keras.utils import np_utils\n",
    "\n",
    "target = np_utils.to_categorical(target)"
   ]
  },
  {
   "cell_type": "code",
   "execution_count": 5,
   "id": "03ed756b",
   "metadata": {},
   "outputs": [],
   "source": [
    "np.save(\"data\",data)\n",
    "np.save(\"target\",target)"
   ]
  },
  {
   "cell_type": "code",
   "execution_count": 6,
   "id": "206e61ce",
   "metadata": {},
   "outputs": [
    {
     "name": "stdout",
     "output_type": "stream",
     "text": [
      "(2578, 100, 100, 1)\n"
     ]
    }
   ],
   "source": [
    "print(data.shape)"
   ]
  },
  {
   "cell_type": "code",
   "execution_count": null,
   "id": "ecdc5abb",
   "metadata": {},
   "outputs": [],
   "source": []
  }
 ],
 "metadata": {
  "kernelspec": {
   "display_name": "Python 3",
   "language": "python",
   "name": "python3"
  },
  "language_info": {
   "codemirror_mode": {
    "name": "ipython",
    "version": 3
   },
   "file_extension": ".py",
   "mimetype": "text/x-python",
   "name": "python",
   "nbconvert_exporter": "python",
   "pygments_lexer": "ipython3",
   "version": "3.8.8"
  }
 },
 "nbformat": 4,
 "nbformat_minor": 5
}
