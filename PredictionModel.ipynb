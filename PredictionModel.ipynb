{
 "cells": [
  {
   "cell_type": "code",
   "execution_count": 1,
   "id": "3c59ed0d",
   "metadata": {},
   "outputs": [],
   "source": [
    "from keras.models import load_model\n",
    "import cv2\n",
    "import numpy as np\n"
   ]
  },
  {
   "cell_type": "code",
   "execution_count": 3,
   "id": "895046e9",
   "metadata": {},
   "outputs": [],
   "source": [
    "model = load_model('result.model')\n",
    "face_clsfr = cv2.CascadeClassifier('haarcascade_frontalface_default.xml')\n",
    "labels_dict= {1:\"Mask\",0:\"No Mask\"}\n",
    "color_dict = {1:(0,255,0),0:(0,0,255)}\n",
    "\n",
    "source = cv2.VideoCapture(0)\n",
    "\n",
    "while(True):\n",
    "    ret,img = source.read()\n",
    "    gray=cv2.cvtColor(img,cv2.COLOR_BGR2GRAY)\n",
    "    faces=face_clsfr.detectMultiScale(gray,1.3,5)\n",
    "    \n",
    "    for (x,y,w,h) in faces:\n",
    "        face_img = gray[y:y+h,x:x+w]\n",
    "        resize = cv2.resize(face_img,(100,100))\n",
    "        normalized = resize/255.0\n",
    "        reshape = np.reshape(normalized,(1,100,100,1))\n",
    "        result = model.predict(reshape)\n",
    "        \n",
    "        label = np.argmax(result,axis=1)[0]\n",
    "       \n",
    "        \n",
    "        cv2.rectangle(img,(x,y),(x+w,y+h),color_dict[label],2)\n",
    "        cv2.rectangle(img,(x,y-40),(x+w,y),color_dict[label],-1)\n",
    "        cv2.putText(img,labels_dict[label],(x,y-10),cv2.FONT_HERSHEY_SIMPLEX,0.8,(255,255,255),2)\n",
    "        \n",
    "        acc=round(np.max(result,axis=1)[0]*100,2)\n",
    "        cv2.putText(img,str(acc),(x+150,y-10),cv2.FONT_HERSHEY_SIMPLEX,0.8,(255,255,255),2)\n",
    "        \n",
    "    cv2.imshow(\"Live\",img)\n",
    "    key = cv2.waitKey(1)\n",
    "    if key==27:\n",
    "        break\n",
    "        \n",
    "cv2.destroyAllWindows()\n",
    "source.release()"
   ]
  }
  
